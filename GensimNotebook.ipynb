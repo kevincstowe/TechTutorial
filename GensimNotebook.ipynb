{
 "cells": [
  {
   "cell_type": "code",
   "execution_count": null,
   "metadata": {
    "collapsed": true
   },
   "outputs": [],
   "source": [
    "# Import modules & set up logging : not necessary, but lets you see what's working and how\n",
    "import logging\n",
    "\n",
    "logging.basicConfig(format='%(asctime)s : %(levelname)s : %(message)s', level=logging.INFO)"
   ]
  },
  {
   "cell_type": "code",
   "execution_count": null,
   "metadata": {},
   "outputs": [],
   "source": [
    "# Defining a helper function that will print out some results for any given model\n",
    "def evaluate_model(model):\n",
    "    print(model)\n",
    "    print(model['first'])\n",
    "    print(\"Most similar to 'first' : \" + str(model.most_similar(['first'])))    # Looks at the most similar words, based on cosine similarity\n",
    "    print(\"Most similar to 'python' : \" + str(model.most_similar(['python'])))  # Sometimes the results are weird, especially for rarer words\n",
    "\n",
    "    # This is the classic example : king - man + woman should equal queen.\n",
    "    print(\"king - man + woman : \" + str(model.most_similar(positive=['king', 'woman'], negative=[\n",
    "        'man'])))"
   ]
  },
  {
   "cell_type": "code",
   "execution_count": null,
   "metadata": {},
   "outputs": [],
   "source": [
    "from gensim.models import Word2Vec\n",
    "\n",
    "# Starting tiny : two sentences, each a list of words\n",
    "sentences = [['this', 'is', 'the', 'first', 'sentence'], ['the', 'second', 'sentence', 'is', 'here']]\n",
    "\n",
    "# Train the model. \"min_count=1\" makes it include all words, even if they only occur once\n",
    "model = Word2Vec(sentences, min_count=1)\n",
    "\n",
    "# Run the helper function defined above:\n",
    "evaluate_model(model)"
   ]
  },
  {
   "cell_type": "code",
   "execution_count": null,
   "metadata": {},
   "outputs": [],
   "source": [
    "# Train a larger model! Let's look at some Wiki data\n",
    "\n",
    "# Load each line as a sentence, then split that line into words based on white space\n",
    "# If you'd like to use any other file that is one sentence per line, just replace 'wiki_sents.txt'\n",
    "sentences = [line.split() for line in open(\"wiki_sents.txt\", encoding=\"utf-8\").readlines()]\n",
    "print (\"This data has : \" + str(len(sentences)) + \" sentences\")\n",
    "\n",
    "# Train and evaluate the model\n",
    "model = Word2Vec(sentences, min_count=3)\n",
    "evaluate_model(model)\n",
    "\n",
    "# A lot better! But still not perfect, as the dataset is too small, even at +1 million sents"
   ]
  },
  {
   "cell_type": "code",
   "execution_count": null,
   "metadata": {},
   "outputs": [],
   "source": [
    "# Finally, a huge model : the GoogleNews dataset. This takes forever to train, but you can download and use a pre-trained version.\n",
    "from gensim.models import KeyedVectors\n",
    "# You'll have to download this file and put it somewhere ( available at https://drive.google.com/file/d/0B7XkCwpI5KDYNlNUTTlSS21pQmM/, or search for it)\n",
    "model = KeyedVectors.load_word2vec_format('C:/Users/Kevin/PycharmProjects/vectors/models/GoogleNews-vectors-negative300.bin', binary=True)\n",
    "evaluate_model(model)\n",
    "# Much better! The bigger the data, the better."
   ]
  }
 ],
 "metadata": {
  "kernelspec": {
   "display_name": "Python 2",
   "language": "python",
   "name": "python2"
  },
  "language_info": {
   "codemirror_mode": {
    "name": "ipython",
    "version": 2.0
   },
   "file_extension": ".py",
   "mimetype": "text/x-python",
   "name": "python",
   "nbconvert_exporter": "python",
   "pygments_lexer": "ipython2",
   "version": "2.7.6"
  }
 },
 "nbformat": 4,
 "nbformat_minor": 0
}